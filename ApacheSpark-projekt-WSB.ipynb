{
 "cells": [
  {
   "cell_type": "markdown",
   "id": "861b6d4a-0de6-42ba-97a5-beef1f82f292",
   "metadata": {},
   "source": [
    "# Projekt Apache Spark"
   ]
  },
  {
   "cell_type": "markdown",
   "id": "7b301ae8-ceff-4dbf-8d04-75bb4eb52480",
   "metadata": {},
   "source": [
    "# Wprowadzenie\n",
    "\n",
    "Wykorzystując ten notatnik jako szablon zrealizuj projekt Apache Spark zgodnie z przydzielonym zestawem. \n",
    "\n",
    "Kilka uwag:\n",
    "\n",
    "* Nie modyfikuj ani nie usuwaj paragrafów *markdown* w tym notatniku, chyba że wynika to jednoznacznie z instrukcji. \n",
    "* Istniejące paragrafy zawierające *kod* uzupełnij w razie potrzeby zgodnie z instrukcjami\n",
    "    - nie usuwaj ich\n",
    "    - nie usuwaj zawartych w nich instrukcji oraz kodu\n",
    "    - nie modyfikuj ich, jeśli instrukcje jawnie tego nie nakazują\n",
    "* Możesz dodawać nowe paragrafy zarówno zawierające kod jak i komentarze dotyczące tego kodu (markdown)"
   ]
  },
  {
   "cell_type": "markdown",
   "id": "e69d12f1-1013-4c74-b6aa-686ccfcbdd5c",
   "metadata": {},
   "source": [
    "# Treść projektu\n",
    "\n",
    "Poniżej w paragrafie markdown wstaw tytuł przydzielonego zestawu"
   ]
  },
  {
   "cell_type": "markdown",
   "id": "adfc4ff6-4d43-49ed-a0d1-8b6988eaec16",
   "metadata": {
    "jp-MarkdownHeadingCollapsed": true
   },
   "source": [
    "# Zestaw 4 – imdb-persons"
   ]
  },
  {
   "cell_type": "markdown",
   "id": "14408872-4060-4a18-ba98-e1f60637d182",
   "metadata": {},
   "source": [
    "# Działania wstępne \n",
    "\n",
    "Utworzenie kontekstów"
   ]
  },
  {
   "cell_type": "code",
   "execution_count": null,
   "id": "c9e5bb04-67c7-4886-af9e-70fc5d334c36",
   "metadata": {},
   "outputs": [],
   "source": [
    "from pyspark.sql import SparkSession\n",
    "\n",
    "# Spark session & context\n",
    "spark = SparkSession.builder.getOrCreate()"
   ]
  },
  {
   "cell_type": "code",
   "execution_count": null,
   "id": "a08580f5-a5d2-41bc-88ae-892ee11297c0",
   "metadata": {},
   "outputs": [],
   "source": [
    "sc = spark.sparkContext"
   ]
  },
  {
   "cell_type": "markdown",
   "id": "5d987ef2-c630-4552-9c96-099414ab7e7c",
   "metadata": {},
   "source": [
    "W poniższym paragrafie uzupełnij polecenia definiujące poszczególne zmienne. \n",
    "\n",
    "Pamiętaj abyś:\n",
    "\n",
    "* w późniejszym kodzie, dla wszystkich cześci projektu, korzystał z tych zdefiniowanych zmiennych. Wykorzystuj je analogicznie jak parametry\n",
    "* przed ostateczną rejestracją projektu usunął ich wartości, tak aby nie pozostawiać w notatniku niczego co mogłoby identyfikować Ciebie jako jego autora"
   ]
  },
  {
   "cell_type": "code",
   "execution_count": null,
   "id": "ad23aede-2679-4a99-a7be-a672f217490b",
   "metadata": {},
   "outputs": [],
   "source": [
    "# pełna ścieżka do katalogu w zasobniku zawierającego podkatalogi `datasource1` i `datasource4` \n",
    "# z danymi źródłowymi\n",
    "input_dir = "
   ]
  },
  {
   "cell_type": "markdown",
   "id": "a17c06f9-e311-45e5-8206-e003882d1606",
   "metadata": {},
   "source": [
    "Nie modyfikuj poniższych paragrafów. Wykonaj je i używaj zdefniowanych poniżej zmiennych jak parametrów Twojego programu."
   ]
  },
  {
   "cell_type": "code",
   "execution_count": null,
   "id": "d06be3d4-cb35-48f9-8356-519ce31fbede",
   "metadata": {},
   "outputs": [],
   "source": [
    "# NIE ZMIENIAĆ\n",
    "# ścieżki dla danych źródłowych \n",
    "datasource1_dir = input_dir + \"/datasource1\"\n",
    "datasource4_dir = input_dir + \"/datasource4\"\n",
    "\n",
    "# nazwy i ścieżki dla wyników dla misji głównej \n",
    "# część 1 (Spark Core - RDD) \n",
    "rdd_result_dir = \"/tmp/output1\"\n",
    "\n",
    "# część 2 (Spark SQL - DataFrame)\n",
    "df_result_table = \"output2\""
   ]
  },
  {
   "cell_type": "code",
   "execution_count": null,
   "id": "12c588e6-528e-4c80-9344-962e4eb3d9f3",
   "metadata": {},
   "outputs": [],
   "source": [
    "# NIE ZMIENIAĆ\n",
    "import os\n",
    "def remove_file(file):\n",
    "    if os.path.exists(file):\n",
    "        os.remove(file)\n",
    "\n",
    "remove_file(\"metric_functions.py\")\n",
    "remove_file(\"tools_functions.py\")"
   ]
  },
  {
   "cell_type": "code",
   "execution_count": null,
   "id": "82343036-3e4e-4a16-80c1-6ab8e88d4600",
   "metadata": {},
   "outputs": [],
   "source": [
    "# NIE ZMIENIAĆ\n",
    "import requests\n",
    "r = requests.get(\"https://jankiewicz.pl/bigdata/metric_functions.py\", allow_redirects=True)\n",
    "open('metric_functions.py', 'wb').write(r.content)\n",
    "r = requests.get(\"https://jankiewicz.pl/bigdata/tools_functions.py\", allow_redirects=True)\n",
    "open('tools_functions.py', 'wb').write(r.content)"
   ]
  },
  {
   "cell_type": "code",
   "execution_count": null,
   "id": "63b37efc-37f1-4b13-af59-e75b65da7b24",
   "metadata": {},
   "outputs": [],
   "source": [
    "# NIE ZMIENIAĆ\n",
    "%run metric_functions.py\n",
    "%run tools_functions.py"
   ]
  },
  {
   "cell_type": "markdown",
   "id": "cc5355ad-a6dd-4f1a-a25d-36692679e885",
   "metadata": {},
   "source": [
    "Poniższe paragrafy mają na celu usunąć ewentualne pozostałości poprzednich uruchomień tego lub innych notatników"
   ]
  },
  {
   "cell_type": "code",
   "execution_count": null,
   "id": "7fb73a60-dcbd-4888-8135-f4ad5f763889",
   "metadata": {},
   "outputs": [],
   "source": [
    "# NIE ZMIENIAĆ\n",
    "# usunięcie miejsca docelowego dla część 1 (Spark Core - RDD) \n",
    "delete_dir(spark, rdd_result_dir)"
   ]
  },
  {
   "cell_type": "code",
   "execution_count": null,
   "id": "f13a8362-c647-4dff-9b39-bdfdc92ce9d9",
   "metadata": {},
   "outputs": [],
   "source": [
    "# NIE ZMIENIAĆ\n",
    "# usunięcie miejsca docelowego dla część 2 (Spark SQL - DataFrame) \n",
    "drop_table(spark, df_result_table)"
   ]
  },
  {
   "cell_type": "markdown",
   "id": "1a0317e5-2279-4979-8578-7e2c96ac3573",
   "metadata": {},
   "source": [
    "***Uwaga!***\n",
    "\n",
    "Uruchom poniższy paragraf i sprawdź czy adres pod którym dostępny Apache Spark Application UI jest poprawny wywołując następny testowy paragraf. \n",
    "\n",
    "W razie potrzeby określ samodzielnie poprawny adres pod którym dostępny Apache Spark Application UI"
   ]
  },
  {
   "cell_type": "code",
   "execution_count": null,
   "id": "b8dc6f54-b0ec-4bf0-ab30-845c985f69fb",
   "metadata": {},
   "outputs": [],
   "source": [
    "# adres URL, pod którym dostępny Apache Spark Application UI (REST API)\n",
    "# \n",
    "spark_ui_address = extract_host_and_port(spark, \"http://localhost:4040\")\n",
    "spark_ui_address"
   ]
  },
  {
   "cell_type": "code",
   "execution_count": null,
   "id": "9e8a4c61-13fc-488c-8e0d-67e69bb92903",
   "metadata": {},
   "outputs": [],
   "source": [
    "# testowy paragraf\n",
    "test_metrics = get_current_metrics(spark_ui_address)"
   ]
  },
  {
   "cell_type": "code",
   "execution_count": null,
   "id": "38729741-4bd9-48fb-a7bc-2523c4f1be73",
   "metadata": {},
   "outputs": [],
   "source": [
    "## DODANE PRZEZ AUTORA\n",
    "header_result = ['profession', 'primaryName', 'movies']"
   ]
  },
  {
   "cell_type": "markdown",
   "id": "b94ffcfb-fd09-4bbe-ad41-de27b862f46d",
   "metadata": {},
   "source": [
    "# Część 1 - Spark Core (RDD)\n",
    "\n",
    "## Misje poboczne\n",
    "\n",
    "W ponizszych paragrafach wprowadź swoje rozwiązania *misji pobocznych*, o ile **nie** chcesz, aby oceniana była *misja główna*. W przeciwnym przypadku **KONIECZNIE** pozostaw je **puste**.  "
   ]
  },
  {
   "cell_type": "code",
   "execution_count": null,
   "id": "08ed54c1-4137-48ec-8f9d-3caafdced36e",
   "metadata": {},
   "outputs": [],
   "source": []
  },
  {
   "cell_type": "code",
   "execution_count": null,
   "id": "6510ba22-70a2-42e7-b595-7cdb76aca767",
   "metadata": {},
   "outputs": [],
   "source": []
  },
  {
   "cell_type": "markdown",
   "id": "ef66612b-909e-412d-9148-4cf588774ff9",
   "metadata": {},
   "source": [
    "## Misja główna \n",
    "\n",
    "Poniższy paragraf zapisuje metryki przed uruchomieniem Twojego rozwiązania *misji głównej*. \n",
    "\n",
    "Nie musisz go uruchamiać podczas implementacji rozwiązania."
   ]
  },
  {
   "cell_type": "code",
   "execution_count": null,
   "id": "5fecf1b2-237a-4dc4-9cc7-adc2e806fa4f",
   "metadata": {},
   "outputs": [],
   "source": [
    "# NIE ZMIENIAĆ\n",
    "before_rdd_metrics = get_current_metrics(spark_ui_address)"
   ]
  },
  {
   "cell_type": "markdown",
   "id": "3bae0494-3a28-4d7e-95f0-b6ca7eee9f8f",
   "metadata": {},
   "source": [
    "W poniższych paragrafach wprowadź rozwiązanie *misji głównej* oparte na *RDD API*. \n",
    "\n",
    "Pamiętaj o wydajności Twojego przetwarzania, *RDD API* tego wymaga. \n",
    "\n",
    "Nie wprowadzaj w poniższych paragrafach żadnego kodu, w przypadku wykorzystania *misji pobocznych*."
   ]
  },
  {
   "cell_type": "markdown",
   "id": "e6f9b78e-9a7c-4a75-9d82-89fae4d041f3",
   "metadata": {},
   "source": [
    "### Przygotowanie danych wyjściowych"
   ]
  },
  {
   "cell_type": "code",
   "execution_count": null,
   "id": "63155041-12fd-4657-89e9-b1b212afc545",
   "metadata": {},
   "outputs": [],
   "source": [
    "ds1 = sc.textFile(f\"{datasource1_dir}/*\")"
   ]
  },
  {
   "cell_type": "code",
   "execution_count": null,
   "id": "7cf537dc-6fd7-4dab-8027-0edb5f4af0b0",
   "metadata": {},
   "outputs": [],
   "source": [
    "movies_data_rdd = ds1.map(lambda line: line.split(\"\\t\"))"
   ]
  },
  {
   "cell_type": "code",
   "execution_count": null,
   "id": "980279b2-00d9-4562-875c-af76b65256bf",
   "metadata": {},
   "outputs": [],
   "source": [
    "ds4 = sc.textFile(f\"{datasource4_dir}/*\")"
   ]
  },
  {
   "cell_type": "code",
   "execution_count": null,
   "id": "400d11bd-53b7-4a60-a635-460b6ffdc0e0",
   "metadata": {},
   "outputs": [],
   "source": [
    "header = ds4.first()\n",
    "persons_data_rdd = ds4.filter(lambda line: line != header).map(lambda line: line.split(\"\\t\"))"
   ]
  },
  {
   "cell_type": "markdown",
   "id": "b2eb488c-de5e-4b87-bc3b-56b908cac7a7",
   "metadata": {},
   "source": [
    "### Wyłuskanie pożądanych kolumn"
   ]
  },
  {
   "cell_type": "code",
   "execution_count": null,
   "id": "b00f4eec-7f09-4d47-a915-4a0425a10f1a",
   "metadata": {},
   "outputs": [],
   "source": [
    "movies_data_rdd = movies_data_rdd.map(lambda x: [x[0], x[2], x[3]])"
   ]
  },
  {
   "cell_type": "code",
   "execution_count": null,
   "id": "6f8bde84-a53f-4e72-ba7b-1369f5a899f5",
   "metadata": {},
   "outputs": [],
   "source": [
    "persons_data_rdd = persons_data_rdd.map(lambda x: [x[0], x[1], x[4]])"
   ]
  },
  {
   "cell_type": "markdown",
   "id": "3df350df-606b-49ca-b7d6-342a004d0791",
   "metadata": {},
   "source": [
    "### Wyznaczanie 4 najbardziej popularnych profesji"
   ]
  },
  {
   "cell_type": "code",
   "execution_count": null,
   "id": "76daf49c-3a79-435a-9f4a-a320951b090f",
   "metadata": {},
   "outputs": [],
   "source": [
    "def map_person_professions(person):\n",
    "    professions = person[-1]\n",
    "    mapped_professions = []\n",
    "    \n",
    "    for profession in professions.split(','):\n",
    "        if profession not in ('', 'miscellaneous'):\n",
    "            mapped_professions.append((profession, 1))\n",
    "    return mapped_professions"
   ]
  },
  {
   "cell_type": "code",
   "execution_count": null,
   "id": "d425cee8-9a5c-4788-94b8-aaa5a16bbae5",
   "metadata": {},
   "outputs": [],
   "source": [
    "professions_sorted_by_popularity = persons_data_rdd.flatMap(map_person_professions).reduceByKey(lambda x, y: x + y)\\\n",
    "                                                                                    .sortBy(lambda entry: entry[1], False)"
   ]
  },
  {
   "cell_type": "code",
   "execution_count": null,
   "id": "a4ac78e7-f56e-4d09-a1e1-1a343bbb8b91",
   "metadata": {},
   "outputs": [],
   "source": [
    "top4_popular_professions = tuple(key for key, _ in professions_sorted_by_popularity.take(4))\n",
    "top4_popular_professions"
   ]
  },
  {
   "cell_type": "markdown",
   "id": "1ea650b5-1cd5-4342-ad7b-4b9f2594c72e",
   "metadata": {},
   "source": [
    "### Filtrowanie wpisów filmów z pełną obsadą"
   ]
  },
  {
   "cell_type": "code",
   "execution_count": null,
   "id": "0169c5ad-1531-4efb-b9f8-e9344a5e8a4e",
   "metadata": {},
   "outputs": [],
   "source": [
    "movies_grouped = movies_data_rdd.map(lambda x: [x[0], x[1:]]).groupByKey().mapValues(list)"
   ]
  },
  {
   "cell_type": "markdown",
   "id": "627714d1-7335-48fb-a504-b2cbc2a483cf",
   "metadata": {},
   "source": [
    "Funkcja do filtrowania filmów, dla każdego sprawdza czy ma 1.aktora/aktorkę 2.reżysera 3.dwie inne role"
   ]
  },
  {
   "cell_type": "code",
   "execution_count": null,
   "id": "5b521c78-ee0c-4bf4-9861-42f4d50d3bd3",
   "metadata": {},
   "outputs": [],
   "source": [
    "import logging as log\n",
    "\n",
    "def is_fully_casted_rdd(x):\n",
    "    movie_entries = list(x[1])\n",
    "    has_actor, has_director, has_other1, has_other2 = False, False, False, False\n",
    "    other_role = ''\n",
    "    \n",
    "    for entry in movie_entries:\n",
    "        if has_actor and has_director and has_other1 and has_other2:\n",
    "            return True;\n",
    "           \n",
    "        role = entry[1]\n",
    "\n",
    "        if role == '':\n",
    "            log.error(\"Invalid role!\")\n",
    "        \n",
    "        if role in ('actor', 'actress','self'):\n",
    "            has_actor = True\n",
    "            continue\n",
    "        elif role == 'director':\n",
    "            has_director = True\n",
    "            continue\n",
    "        elif not has_other1:\n",
    "            has_other1 = True\n",
    "            other_role = role\n",
    "            continue\n",
    "        elif not has_other2 and role not in ('actor', 'actress', other_role):\n",
    "            has_other2 = True\n",
    "            continue\n",
    "    return has_actor and has_director and has_other1 and has_other2"
   ]
  },
  {
   "cell_type": "code",
   "execution_count": null,
   "id": "bf5174c9-8809-495f-92c9-dd42b1dec2a7",
   "metadata": {},
   "outputs": [],
   "source": [
    "full_cast_movies_grouped = movies_grouped.filter(is_fully_casted_rdd)"
   ]
  },
  {
   "cell_type": "code",
   "execution_count": null,
   "id": "7ac6d6db-4cca-44a5-9a31-e746d17e6957",
   "metadata": {},
   "outputs": [],
   "source": [
    "full_cast_movies = full_cast_movies_grouped.flatMap(lambda x: [(value[0], value[1], x[0]) for value in x[1]])"
   ]
  },
  {
   "cell_type": "markdown",
   "id": "1e70e6ab-c006-4d3b-ade8-2b68ae17d44d",
   "metadata": {},
   "source": [
    "### Filtrowanie wpisów filmów dla 4 najpopularniejszych profesji"
   ]
  },
  {
   "cell_type": "code",
   "execution_count": null,
   "id": "7934de7c-63ff-4995-9b1b-d1621701e9f0",
   "metadata": {},
   "outputs": [],
   "source": [
    "full_cast_movies_of_top4_roles =  full_cast_movies.filter(lambda x: x[-2] in top4_popular_professions)"
   ]
  },
  {
   "cell_type": "markdown",
   "id": "869f558c-2c35-426c-aa89-87ee5cc4f3bc",
   "metadata": {},
   "source": [
    "### Wyznaczanie 3 najbardziej zaangażowanych osób dla 4 najpopularniejszych profesji"
   ]
  },
  {
   "cell_type": "code",
   "execution_count": null,
   "id": "e0cf94d9-b2de-4a6a-ab92-6e38f7600dc2",
   "metadata": {},
   "outputs": [],
   "source": [
    "persons_involvement = full_cast_movies_of_top4_roles.distinct().map(lambda x: [tuple(x[:-1]), 1]).reduceByKey(lambda x, y: x + y)\\\n",
    "                                                                                                .map(lambda x: [*x[0],x[1]]) #rozpakowanie klucza"
   ]
  },
  {
   "cell_type": "code",
   "execution_count": null,
   "id": "65b903ab-2086-4b0c-86d3-3b679a61b99d",
   "metadata": {},
   "outputs": [],
   "source": [
    "top_3_persons_of_top4_roles_grouped = persons_involvement.groupBy(lambda x: x[1]) \\\n",
    "                                        .mapValues(lambda role_rows: sorted(role_rows, key= lambda x: x[2], reverse=True)[:3])"
   ]
  },
  {
   "cell_type": "code",
   "execution_count": null,
   "id": "023723c4-7c5e-488f-b633-0c32f6f263e6",
   "metadata": {},
   "outputs": [],
   "source": [
    "top_3_persons_of_top4_roles = top_3_persons_of_top4_roles_grouped.flatMap(lambda x: [(person[0], (x[0], person[2])) for person in x[1]])"
   ]
  },
  {
   "cell_type": "markdown",
   "id": "2a5e9d8c-57f0-46be-9503-7e1ec1d5dbe4",
   "metadata": {},
   "source": [
    "### Odczytanie nazwisk najbardziej zaangażowanych i formatowanie wyników"
   ]
  },
  {
   "cell_type": "code",
   "execution_count": null,
   "id": "7ea3d2aa-fc12-4318-8d0d-f389b8e46d52",
   "metadata": {},
   "outputs": [],
   "source": [
    "person_id_name = persons_data_rdd.map(lambda x: x[:-1])"
   ]
  },
  {
   "cell_type": "code",
   "execution_count": null,
   "id": "c8b5af5e-328d-4d09-b3b3-5ef504d12052",
   "metadata": {},
   "outputs": [],
   "source": [
    "result = sc.parallelize([header_result]) + top_3_persons_of_top4_roles.leftOuterJoin(person_id_name)\\\n",
    "                                                    .map(lambda x: [x[1][0][0], x[1][1], x[1][0][1]])\\\n",
    "                                                    .sortBy(lambda x: (x[0],-x[-1]))"
   ]
  },
  {
   "cell_type": "code",
   "execution_count": null,
   "id": "cd429e24-822e-4a36-ae37-571265c97383",
   "metadata": {},
   "outputs": [],
   "source": [
    "result.collect()"
   ]
  },
  {
   "cell_type": "markdown",
   "id": "3a7fafd0-6177-4977-b187-6c739153288e",
   "metadata": {},
   "source": [
    "### Zapisanie wyniku"
   ]
  },
  {
   "cell_type": "code",
   "execution_count": null,
   "id": "f343cf50-1014-4dc0-9092-4425de7b5a89",
   "metadata": {},
   "outputs": [],
   "source": [
    "result.saveAsPickleFile(rdd_result_dir)"
   ]
  },
  {
   "cell_type": "markdown",
   "id": "83c0307b-8f93-4e81-ac86-01a2d0b51c74",
   "metadata": {},
   "source": [
    "### Metryki"
   ]
  },
  {
   "cell_type": "markdown",
   "id": "f0911dc9-e636-4ac0-b962-5d9dc595679f",
   "metadata": {},
   "source": [
    "Poniższy paragraf zapisuje metryki po uruchomieniu Twojego rozwiązania *misji głównej*. \n",
    "\n",
    "Nie musisz go uruchamiać podczas implementacji rozwiązania."
   ]
  },
  {
   "cell_type": "code",
   "execution_count": null,
   "id": "ce40be31-e7c6-47d8-8712-1a58f542500c",
   "metadata": {},
   "outputs": [],
   "source": [
    "# NIE ZMIENIAĆ\n",
    "after_rdd_metrics = get_current_metrics(spark_ui_address)"
   ]
  },
  {
   "cell_type": "markdown",
   "id": "11fa58fe-cea7-4e62-940d-1169b2e1cad5",
   "metadata": {},
   "source": [
    "# Część 2 - Spark SQL (DataFrame)\n",
    "\n",
    "## Misje poboczne\n",
    "\n",
    "W ponizszych paragrafach wprowadź swoje rozwiązania *misji pobocznych*, o ile **nie** chcesz, aby oceniana była *misja główna*. W przeciwnym przypadku **KONIECZNIE** pozostaw je **puste**.  "
   ]
  },
  {
   "cell_type": "code",
   "execution_count": null,
   "id": "eca6e627-0ce5-4c48-b441-3bcc14e32f36",
   "metadata": {},
   "outputs": [],
   "source": []
  },
  {
   "cell_type": "code",
   "execution_count": null,
   "id": "0927c1aa-ea14-4052-99cc-8c7ad311087e",
   "metadata": {},
   "outputs": [],
   "source": []
  },
  {
   "cell_type": "markdown",
   "id": "2f9c85b6-5111-49d9-8b48-c2008347949c",
   "metadata": {},
   "source": [
    "## Misja główna \n",
    "\n",
    "Poniższy paragraf zapisuje metryki przed uruchomieniem Twojego rozwiązania *misji głównej*. \n",
    "\n",
    "Nie musisz go uruchamiać podczas implementacji rozwiązania."
   ]
  },
  {
   "cell_type": "code",
   "execution_count": null,
   "id": "6ab8c395-e13e-4de1-8380-a6e19bb25cbd",
   "metadata": {},
   "outputs": [],
   "source": [
    "# NIE ZMIENIAĆ\n",
    "before_df_metrics = get_current_metrics(spark_ui_address)"
   ]
  },
  {
   "cell_type": "markdown",
   "id": "4c875c26-f0f9-42bb-b06a-50e0f9df44ae",
   "metadata": {},
   "source": [
    "W poniższych paragrafach wprowadź rozwiązanie *misji głównej* swojego projektu oparte o *DataFrame API*. \n",
    "\n",
    "Pamiętaj o wydajności Twojego przetwarzania, *DataFrame API* nie jest w stanie wszystkiego \"naprawić\". \n",
    "\n",
    "Nie wprowadzaj w poniższych paragrafach żadnego kodu, w przypadku wykorzystania *misji pobocznych*."
   ]
  },
  {
   "cell_type": "markdown",
   "id": "404d82f4-9faf-4cfa-80d8-b51f55bde0b3",
   "metadata": {},
   "source": [
    "### Załadowanie danych i wyłuskanie pożądanych kolumn"
   ]
  },
  {
   "cell_type": "code",
   "execution_count": null,
   "id": "eda8649f-6b05-403c-81b2-a06fcdcf40a1",
   "metadata": {},
   "outputs": [],
   "source": [
    "from pyspark.sql.functions import *\n",
    "from pyspark.sql import Window"
   ]
  },
  {
   "cell_type": "markdown",
   "id": "89d21eae-d2bb-435a-aacb-8e5a0d21881e",
   "metadata": {},
   "source": [
    "#### Flmy"
   ]
  },
  {
   "cell_type": "code",
   "execution_count": null,
   "id": "06dba7be-b39e-4b13-9913-3a4cae465e75",
   "metadata": {},
   "outputs": [],
   "source": [
    "ds1_df = spark.read \\\n",
    "    .option(\"header\", \"false\") \\\n",
    "    .option(\"sep\", \"\\t\") \\\n",
    "    .option(\"inferSchema\", \"true\") \\\n",
    "    .csv(datasource1_dir)"
   ]
  },
  {
   "cell_type": "code",
   "execution_count": null,
   "id": "26077944-3f8d-4f65-b936-a69a7554d64c",
   "metadata": {},
   "outputs": [],
   "source": [
    "movies_df = ds1_df.select(col(ds1_df.columns[0]).alias('movieID'), col(ds1_df.columns[2]).alias('personID'), \\\n",
    "                          col(ds1_df.columns[3]).alias('role'))"
   ]
  },
  {
   "cell_type": "markdown",
   "id": "583b33e2-df55-411b-8e48-4ea61e5dab4f",
   "metadata": {},
   "source": [
    "#### Osoby"
   ]
  },
  {
   "cell_type": "code",
   "execution_count": null,
   "id": "c484a8dc-c3f4-48c4-bd18-1fc8d3aa3331",
   "metadata": {},
   "outputs": [],
   "source": [
    "ds4_df = spark.read \\\n",
    "    .option(\"header\", \"True\") \\\n",
    "    .option(\"sep\", \"\\t\") \\\n",
    "    .option(\"inferSchema\", \"true\") \\\n",
    "    .csv(datasource4_dir)"
   ]
  },
  {
   "cell_type": "code",
   "execution_count": null,
   "id": "c91c8d56-993d-4a39-9a17-ddcf21205449",
   "metadata": {},
   "outputs": [],
   "source": [
    "persons_df = ds4_df.select(expr(\"nconst as personID\"), expr(\"primaryName as name\"), expr('primaryProfession as professions'))"
   ]
  },
  {
   "cell_type": "markdown",
   "id": "a70aaadc-13f1-49c1-beec-c03796e12ac9",
   "metadata": {},
   "source": [
    "### Wyznaczanie 4 najbardziej popularnych profesji"
   ]
  },
  {
   "cell_type": "code",
   "execution_count": null,
   "id": "82414379-816f-426c-8fec-93147ae2cc98",
   "metadata": {},
   "outputs": [],
   "source": [
    "top4_popular_professions = persons_df.withColumn('profession', explode(split(col('professions'), \",\"))) \\\n",
    "                        .drop('professions') \\\n",
    "                        .filter(col('profession') != 'miscellaneous') \\\n",
    "                        .groupBy('profession').agg(count('*').alias('count')) \\\n",
    "                        .sort(col('count').desc()).select('profession').limit(4)\n",
    "top4_professions_list = [row['profession'] for row in top4_popular_professions.collect()]"
   ]
  },
  {
   "cell_type": "markdown",
   "id": "a3d7146d-e40d-4574-9290-95ab17e6bbc2",
   "metadata": {},
   "source": [
    "### Filtrowanie wpisów filmów z pełną obsadą"
   ]
  },
  {
   "cell_type": "code",
   "execution_count": null,
   "id": "f52ba365-0323-4978-85f9-7219caa19fe3",
   "metadata": {},
   "outputs": [],
   "source": [
    "basic_roles = ( 'director', 'actor', 'actress', 'self' )\n",
    "\n",
    "def is_df_fully_casted(roles):\n",
    "        return array_contains(roles, basic_roles[0]) & \\\n",
    "            (array_contains(roles, basic_roles[1]) | array_contains(roles, basic_roles[2]) | array_contains(roles, basic_roles[3])) & \\\n",
    "            (size(array_except(roles,  array( [lit(x) for x in basic_roles] ) )) >= 2)"
   ]
  },
  {
   "cell_type": "code",
   "execution_count": null,
   "id": "e7e63936-8181-48bb-8644-aac1057b7030",
   "metadata": {
    "scrolled": true
   },
   "outputs": [],
   "source": [
    "full_cast_movieIDs = movies_df.groupBy('movieID').agg(collect_set('role').alias('roles'))\\\n",
    "                                .filter(is_df_fully_casted(col('roles'))).drop('roles')"
   ]
  },
  {
   "cell_type": "code",
   "execution_count": null,
   "id": "f96cc4ed-d350-414c-82fe-48d54a3c6a40",
   "metadata": {},
   "outputs": [],
   "source": [
    "full_cast_movies = movies_df.join(full_cast_movieIDs, on=\"movieID\", how=\"inner\")"
   ]
  },
  {
   "cell_type": "markdown",
   "id": "561ec6b4-4714-4dd8-8b2d-25d19187a5f7",
   "metadata": {},
   "source": [
    "### Filtrowanie wpisów filmów dla 4 najpopularniejszych profesji"
   ]
  },
  {
   "cell_type": "code",
   "execution_count": null,
   "id": "ff8cfadd-42d5-4500-9a4f-db9e4dcdc57f",
   "metadata": {},
   "outputs": [],
   "source": [
    "top4_prof_full_cast_movies = full_cast_movies.filter(col('role').alias('profession').isin( top4_professions_list ))"
   ]
  },
  {
   "cell_type": "markdown",
   "id": "3635a621-2ff6-4a43-8a11-3b48b37046d0",
   "metadata": {},
   "source": [
    "### Wyznaczanie 3 najbardziej zaangażowanych osób dla 4 najpopularniejszych profesji"
   ]
  },
  {
   "cell_type": "code",
   "execution_count": null,
   "id": "f3ea3d27-e0b5-4dd0-86cf-baf027747365",
   "metadata": {},
   "outputs": [],
   "source": [
    "movies_per_role_n_person = top4_prof_full_cast_movies.groupBy('role', 'personID').agg(count('*').alias('movies'))"
   ]
  },
  {
   "cell_type": "code",
   "execution_count": null,
   "id": "3808199b-8dba-473c-be66-35c43f0ef08f",
   "metadata": {},
   "outputs": [],
   "source": [
    "role_window_spec = Window.partitionBy(\"role\").orderBy(col(\"movies\").desc())\n",
    "\n",
    "ranked_df = movies_per_role_n_person.withColumn(\"rank\", row_number().over(role_window_spec))\n",
    "\n",
    "top3_persons_of_top4_roles = ranked_df.filter(col(\"rank\") <= 3).drop(\"rank\")"
   ]
  },
  {
   "cell_type": "markdown",
   "id": "bbc83a2c-b984-4983-bb21-f121f9a200ee",
   "metadata": {},
   "source": [
    "### Odczytanie nazwisk najbardziej zaangażowanych i formatowanie wyników"
   ]
  },
  {
   "cell_type": "code",
   "execution_count": null,
   "id": "ecf57088-fd4c-4957-a800-f5865e2469e6",
   "metadata": {},
   "outputs": [],
   "source": [
    "names_per_IDs = persons_df.drop('professions')"
   ]
  },
  {
   "cell_type": "code",
   "execution_count": null,
   "id": "4a3aa27f-3a27-4cd6-94f5-e98d0b51a81f",
   "metadata": {},
   "outputs": [],
   "source": [
    "result = top3_persons_of_top4_roles.join(names_per_IDs, on='personID', how='inner').drop('personID').sort(col('role'), col('movies').desc())"
   ]
  },
  {
   "cell_type": "code",
   "execution_count": null,
   "id": "4a1c6181-45f3-4c18-b6c4-f26d1282303c",
   "metadata": {},
   "outputs": [],
   "source": [
    "result = result.select(col('role').alias(header_result[0]), col('name').alias(header_result[1]), col('movies'))\n",
    "result.show(truncate=False)"
   ]
  },
  {
   "cell_type": "code",
   "execution_count": null,
   "id": "8ec84618-5983-462c-b493-47b9b6416c04",
   "metadata": {},
   "outputs": [],
   "source": [
    "result.write.saveAsTable(df_result_table)"
   ]
  },
  {
   "cell_type": "markdown",
   "id": "2af0acd5-4847-4ac6-8895-95077769e28f",
   "metadata": {},
   "source": [
    "### Metryki"
   ]
  },
  {
   "cell_type": "markdown",
   "id": "44ae8d1c-0739-47e0-aa9e-cd4db027590b",
   "metadata": {},
   "source": [
    "Poniższy paragraf zapisuje metryki po uruchomieniu Twojego rozwiązania *misji głównej*. \n",
    "\n",
    "Nie musisz go uruchamiać podczas implementacji rozwiązania."
   ]
  },
  {
   "cell_type": "code",
   "execution_count": null,
   "id": "ff10e8f9-b751-472f-ab65-f5a58532d053",
   "metadata": {},
   "outputs": [],
   "source": [
    "# NIE ZMIENIAĆ\n",
    "after_df_metrics = get_current_metrics(spark_ui_address)"
   ]
  },
  {
   "cell_type": "markdown",
   "id": "e8f1cdce-fbf0-4b96-bc6d-471c5b2baa42",
   "metadata": {},
   "source": [
    "# Analiza wyników i wydajności *misji głównych*"
   ]
  },
  {
   "cell_type": "markdown",
   "id": "c4e2e990-5973-4c2e-b821-c70854c299b9",
   "metadata": {},
   "source": [
    "## Część 1 - Spark Core (RDD)"
   ]
  },
  {
   "cell_type": "code",
   "execution_count": null,
   "id": "dcba5ea6-e55c-4b08-8ded-c495bee1dd84",
   "metadata": {},
   "outputs": [],
   "source": [
    "# Wczytanie wyników z pliku pickle\n",
    "word_counts = sc.pickleFile(rdd_result_dir)\n",
    "\n",
    "# Wyświetlenie 50 pierwszych elementów\n",
    "result_sample = word_counts.take(50)\n",
    "for item in result_sample:\n",
    "    print(item)"
   ]
  },
  {
   "cell_type": "code",
   "execution_count": null,
   "id": "ad5bc0f2-35ee-4e57-82ca-3300f4fc478e",
   "metadata": {},
   "outputs": [],
   "source": [
    "subtract_metrics(after_rdd_metrics, before_rdd_metrics)"
   ]
  },
  {
   "cell_type": "markdown",
   "id": "efc730f1-4b5e-4a68-8a86-11768918fcf4",
   "metadata": {},
   "source": [
    "## Część 2 - Spark SQL (DataFrame)"
   ]
  },
  {
   "cell_type": "code",
   "execution_count": null,
   "id": "1af1f027-880d-4e4a-ac5e-106919540d86",
   "metadata": {},
   "outputs": [],
   "source": [
    "df = spark.table(df_result_table)\n",
    "\n",
    "# Wyświetlenie 50 pierwszych rekordów\n",
    "df.show(50)"
   ]
  },
  {
   "cell_type": "code",
   "execution_count": null,
   "id": "5ff7fbed-f655-4f4b-9b54-7c03cabd3629",
   "metadata": {},
   "outputs": [],
   "source": [
    "subtract_metrics(after_df_metrics, before_df_metrics)"
   ]
  }
 ],
 "metadata": {
  "kernelspec": {
   "display_name": "Python 3",
   "language": "python",
   "name": "python3"
  },
  "language_info": {
   "codemirror_mode": {
    "name": "ipython",
    "version": 3
   },
   "file_extension": ".py",
   "mimetype": "text/x-python",
   "name": "python",
   "nbconvert_exporter": "python",
   "pygments_lexer": "ipython3",
   "version": "3.11.8"
  }
 },
 "nbformat": 4,
 "nbformat_minor": 5
}
